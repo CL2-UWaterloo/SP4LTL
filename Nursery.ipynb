{
 "cells": [
  {
   "attachments": {},
   "cell_type": "markdown",
   "metadata": {},
   "source": [
    "# Nursery Scenario"
   ]
  },
  {
   "cell_type": "code",
   "execution_count": 1,
   "metadata": {},
   "outputs": [
    {
     "name": "stderr",
     "output_type": "stream",
     "text": [
      "2023-10-02 20:17:00.028904: I tensorflow/core/platform/cpu_feature_guard.cc:193] This TensorFlow binary is optimized with oneAPI Deep Neural Network Library (oneDNN) to use the following CPU instructions in performance-critical operations:  SSE4.1 SSE4.2 AVX AVX2 FMA\n",
      "To enable them in other operations, rebuild TensorFlow with the appropriate compiler flags.\n"
     ]
    }
   ],
   "source": [
    "from NN import *\n",
    "from LTL import *\n",
    "from Utility_funcs import *\n",
    "\n",
    "from csrl.mdp import GridMDP\n",
    "from csrl.oa import OmegaAutomaton\n",
    "from csrl import ControlSynthesis\n",
    "import numpy as np\n",
    "from matplotlib import pyplot as plt\n",
    "import time\n",
    "import os"
   ]
  },
  {
   "cell_type": "code",
   "execution_count": 2,
   "metadata": {},
   "outputs": [
    {
     "name": "stdout",
     "output_type": "stream",
     "text": [
      "Number of Omega-automaton states (including the trap state): 55\n"
     ]
    },
    {
     "data": {
      "image/png": "[encoded data removed]",
      "text/plain": [
       "<Figure size 500x500 with 1 Axes>"
      ]
     },
     "metadata": {},
     "output_type": "display_data"
    }
   ],
   "source": [
    "ltl = ('G ('\n",
    "    '(!d) & '\n",
    "    '(c->((!a) U b)) & '\n",
    "    '((b & (X b))->(F a)) & '\n",
    "    '((b & (!(X b)))->(X ((!b) U (a|c)))) & '\n",
    "    '(((!b) & (X b) & (!(X X b)))->((!a) U c)) &'\n",
    "    '(a->(X ((!a) U b))) '\n",
    "')')\n",
    "\n",
    "# Translate the LTL formula to an LDBA\n",
    "oa = OmegaAutomaton(ltl)\n",
    "print('Number of Omega-automaton states (including the trap state):',oa.shape[1])\n",
    "\n",
    "# MDP Description\n",
    "shape = (5,4)\n",
    "# E: Empty, T: Trap, B: Obstacle\n",
    "structure = np.array([\n",
    "['E',  'E',  'E',  'E'],\n",
    "['E',  'E',  'E',  'E'],\n",
    "['E',  'E',  'E',  'E'],\n",
    "['E',  'E',  'E',  'E'],\n",
    "['E',  'E',  'E',  'E']\n",
    "])\n",
    "\n",
    "# Labels of the states\n",
    "label = np.array([\n",
    "[(),    (),    ('b',),('d',)],\n",
    "[(),    (),    (),    ()],\n",
    "[(),    (),    (),    ()],\n",
    "[('a',),(),    (),    ()],\n",
    "[(),    ('c',),(),    ()]\n",
    "],dtype=object)\n",
    "# Colors of the labels\n",
    "lcmap={\n",
    "    ('a',):'yellow',\n",
    "    ('b',):'greenyellow',\n",
    "    ('c',):'turquoise',\n",
    "    ('d',):'pink'\n",
    "} \n",
    "p = 0.8\n",
    "grid_mdp = GridMDP(shape=shape,structure=structure,label=label,lcmap=lcmap, p=p, figsize=5)  # Use figsize=4 for smaller figures\n",
    "grid_mdp.plot() # MDP actions are u, d, r, l\n",
    "\n",
    "# Construct the product MDP\n",
    "csrl = ControlSynthesis(grid_mdp,oa)\n",
    "max_rew = round(csrl.reward.max(), 3)\n",
    "\n",
    "s_vectors = state_vectors(csrl)\n",
    "enc = list(np.unique(grid_mdp.label))\n",
    "enc.pop(enc.index(()))\n",
    "ch_states = channeled(csrl, enc)\n",
    "total_number_of_states = csrl.mdp.shape[0]*csrl.mdp.shape[1]*csrl.oa.shape[1]"
   ]
  },
  {
   "cell_type": "code",
   "execution_count": 3,
   "metadata": {},
   "outputs": [
    {
     "name": "stderr",
     "output_type": "stream",
     "text": [
      "2023-10-02 20:17:09.418509: I tensorflow/core/platform/cpu_feature_guard.cc:193] This TensorFlow binary is optimized with oneAPI Deep Neural Network Library (oneDNN) to use the following CPU instructions in performance-critical operations:  SSE4.1 SSE4.2 AVX AVX2 FMA\n",
      "To enable them in other operations, rebuild TensorFlow with the appropriate compiler flags.\n",
      "2023-10-02 20:17:09.419401: I tensorflow/core/common_runtime/process_util.cc:146] Creating new thread pool with default inter op setting: 2. Tune using inter_op_parallelism_threads for best performance.\n"
     ]
    },
    {
     "name": "stdout",
     "output_type": "stream",
     "text": [
      "Model: \"model\"\n",
      "__________________________________________________________________________________________________\n",
      " Layer (type)                   Output Shape         Param #     Connected to                     \n",
      "==================================================================================================\n",
      " input_1 (InputLayer)           [(None, 5, 4, 55)]   0           []                               \n",
      "                                                                                                  \n",
      " conv2d (Conv2D)                (None, 5, 4, 32)     7072        ['input_1[0][0]']                \n",
      "                                                                                                  \n",
      " conv2d_1 (Conv2D)              (None, 5, 4, 8)      1032        ['conv2d[0][0]']                 \n",
      "                                                                                                  \n",
      " flatten (Flatten)              (None, 160)          0           ['conv2d_1[0][0]']               \n",
      "                                                                                                  \n",
      " dense (Dense)                  (None, 32)           5152        ['flatten[0][0]']                \n",
      "                                                                                                  \n",
      " dense_1 (Dense)                (None, 16)           528         ['dense[0][0]']                  \n",
      "                                                                                                  \n",
      " dense_2 (Dense)                (None, 59)           1003        ['dense_1[0][0]']                \n",
      "                                                                                                  \n",
      " dense_3 (Dense)                (None, 1)            17          ['dense_1[0][0]']                \n",
      "                                                                                                  \n",
      "==================================================================================================\n",
      "Total params: 14,804\n",
      "Trainable params: 14,804\n",
      "Non-trainable params: 0\n",
      "__________________________________________________________________________________________________\n"
     ]
    }
   ],
   "source": [
    "model = build_model(ch_states[(0,0,0,0)].shape, csrl.shape[-1])\n",
    "model.summary()"
   ]
  },
  {
   "cell_type": "code",
   "execution_count": 4,
   "metadata": {},
   "outputs": [],
   "source": [
    "full_t = \"[] ( (~d) /\\ ((b /\\ ~>b) -> >(~b % (a \\/ c))) /\\ (a -> >(~a % b))\"\n",
    "full_t += \" /\\ ((~b /\\ >b /\\ ~>>b)->(~a % c)) /\\ (c->(~a % b)) /\\ ((b /\\ >b) -> <>a) )\"\n",
    "\n",
    "LTL_formula = parser.parse(full_t)\n",
    "predicates=get_predicates(grid_mdp)"
   ]
  },
  {
   "cell_type": "code",
   "execution_count": 5,
   "metadata": {},
   "outputs": [
    {
     "name": "stdout",
     "output_type": "stream",
     "text": [
      "##########################\n",
      "T: 25 | C: 0.01 | tow: 0.1\n",
      "[0. 0. 0. 0.] 0\n"
     ]
    },
    {
     "name": "stdout",
     "output_type": "stream",
     "text": [
      "0 ) MCTS conf: 0.13 , det: 1.0 | LTL [---]  LDBA [ 0.01 ] path: [17, 18, 17, 18, 14, 10, 6, 2, 2, 2, 2, 2, 1, 1, 2, 2, 6, 2, 1, 2, 1, 2, 1, 2, 1]\n",
      "[0.12929374 0.         0.         0.        ] 159\n",
      "1 ) MCTS conf: -0.22 , det: 1.0 | LTL [---]  LDBA [ 0.01 ] path: [17, 13, 9, 5, 1, 1, 2, 2, 1, 5, 9, 8, 12, 16, 12, 8, 4, 5, 4, 5, 1, 2, 1, 2, 1]\n",
      "[-0.0382459  -0.16666    -0.18688201 -0.249995  ] 191\n",
      "2 ) MCTS conf: -0.25 , det: 1.0 | LTL [---]  LDBA [ 0.01 ] path: [17, 13, 9, 5, 1, 1, 2, 2, 2, 2, 6, 7, 11, 15, 19, 15, 19, 15, 19, 18, 17, 18, 17, 16, 12]\n",
      "[-0.11101192 -0.16666    -0.18688201 -0.249995  ] 197\n",
      "3 ) MCTS conf: -0.2 , det: 1.0 | LTL [---]  LDBA [ 0.01 ] path: [17, 13, 9, 10, 6, 2, 2, 2, 2, 1, 1, 5, 9, 13, 12, 12, 12, 12, 12, 12, 12, 12, 8, 8, 4]\n",
      "[-0.13376948 -0.16666    -0.18688201 -0.249995  ] 197\n",
      "4 ) MCTS conf: -0.25 , det: 1.0 | LTL [---]  LDBA [ 0.0 ] path: [17, 13, 14, 10, 11, 10, 6, 2, 1, 2, 2, 1, 1, 2, 1, 5, 1, 1, 2, 1, 2, 1, 2, 1, 2]\n",
      "[-0.15845902 -0.16666    -0.18688201 -0.249995  ] 197\n",
      "5 ) MCTS conf: -0.2 , det: 1.0 | LTL [---]  LDBA [ 0.0 ] path: [17, 13, 9, 5, 1, 2, 2, 2, 1, 5, 6, 2, 2, 1, 2, 1, 2, 1, 2, 1, 5, 6, 10, 11, 15]\n",
      "[-0.16576744 -0.1249925  -0.18688201 -0.249995  ] 199\n",
      "6 ) MCTS conf: -0.22 , det: 1.0 | LTL [---]  LDBA [ 0.0 ] path: [17, 13, 9, 8, 8, 8, 8, 12, 8, 4, 0, 1, 2, 1, 2, 6, 5, 1, 2, 1, 2, 6, 5, 1, 2]\n",
      "[-0.17300759 -0.199994   -0.18688201 -0.249995  ] 199\n",
      "7 ) MCTS conf: -0.28 , det: 1.0 | LTL [---]  LDBA [ 0.01 ] path: [17, 13, 9, 10, 11, 10, 11, 7, 7, 11, 10, 6, 2, 2, 2, 2, 1, 1, 5, 9, 13, 12, 8, 4, 0]\n",
      "[-0.18640635 -0.199994   -0.21212721 -0.249995  ] 200\n",
      "8 ) MCTS conf: -0.23 , det: 1.0 | LTL [---]  LDBA [ 0.01 ] path: [17, 16, 16, 17, 18, 14, 10, 11, 10, 9, 10, 6, 2, 2, 2, 2, 1, 2, 2, 1, 2, 1, 2, 2, 1]\n",
      "[-0.19188418 -0.199994   -0.21212721 -0.249995  ] 200\n",
      "9 ) MCTS conf: -0.19 , det: 1.0 | LTL [---]  LDBA [ 0.01 ] path: [17, 18, 14, 10, 9, 5, 1, 2, 2, 2, 1, 5, 9, 8, 12, 8, 4, 0, 1, 0, 4, 0, 1, 0, 1]\n"
     ]
    },
    {
     "ename": "KeyboardInterrupt",
     "evalue": "",
     "output_type": "error",
     "traceback": [
      "\u001b[0;31m---------------------------------------------------------------------------\u001b[0m",
      "\u001b[0;31mKeyboardInterrupt\u001b[0m                         Traceback (most recent call last)",
      "\u001b[1;32m/home/srmt/Research/Uwaterloo/RL-LTL/ComputeCanada_scrips/ACC_repo_code/Nursery.ipynb Cell 6\u001b[0m line \u001b[0;36m6\n\u001b[1;32m     <a href='vscode-notebook-cell:/home/srmt/Research/Uwaterloo/RL-LTL/ComputeCanada_scrips/ACC_repo_code/Nursery.ipynb#X12sZmlsZQ%3D%3D?line=57'>58</a>\u001b[0m         y2_train \u001b[39m=\u001b[39m np\u001b[39m.\u001b[39mconcatenate((y2_train, y2_train_curr[:\u001b[39m-\u001b[39m\u001b[39m1\u001b[39m]),\u001b[39m0\u001b[39m)\n\u001b[1;32m     <a href='vscode-notebook-cell:/home/srmt/Research/Uwaterloo/RL-LTL/ComputeCanada_scrips/ACC_repo_code/Nursery.ipynb#X12sZmlsZQ%3D%3D?line=58'>59</a>\u001b[0m     t3\u001b[39m=\u001b[39m time\u001b[39m.\u001b[39mtime()\n\u001b[0;32m---> <a href='vscode-notebook-cell:/home/srmt/Research/Uwaterloo/RL-LTL/ComputeCanada_scrips/ACC_repo_code/Nursery.ipynb#X12sZmlsZQ%3D%3D?line=59'>60</a>\u001b[0m     tr_hist \u001b[39m=\u001b[39m model\u001b[39m.\u001b[39;49mfit(x_train, [y1_train, y2_train], epochs\u001b[39m=\u001b[39;49mepochs, batch_size\u001b[39m=\u001b[39;49mbatch_size,\n\u001b[1;32m     <a href='vscode-notebook-cell:/home/srmt/Research/Uwaterloo/RL-LTL/ComputeCanada_scrips/ACC_repo_code/Nursery.ipynb#X12sZmlsZQ%3D%3D?line=60'>61</a>\u001b[0m                         steps_per_epoch\u001b[39m=\u001b[39;49msteps_per_epoch \u001b[39mif\u001b[39;49;00m \u001b[39mlen\u001b[39;49m(x_train)\u001b[39m>\u001b[39;49msteps_per_epoch\u001b[39m*\u001b[39;49mepochs\u001b[39m*\u001b[39;49mbatch_size \u001b[39melse\u001b[39;49;00m \u001b[39mNone\u001b[39;49;00m, verbose\u001b[39m=\u001b[39;49m\u001b[39m0\u001b[39;49m)\n\u001b[1;32m     <a href='vscode-notebook-cell:/home/srmt/Research/Uwaterloo/RL-LTL/ComputeCanada_scrips/ACC_repo_code/Nursery.ipynb#X12sZmlsZQ%3D%3D?line=61'>62</a>\u001b[0m     train_history \u001b[39m+\u001b[39m\u001b[39m=\u001b[39m tr_hist\u001b[39m.\u001b[39mhistory[\u001b[39m'\u001b[39m\u001b[39mloss\u001b[39m\u001b[39m'\u001b[39m]\n\u001b[1;32m     <a href='vscode-notebook-cell:/home/srmt/Research/Uwaterloo/RL-LTL/ComputeCanada_scrips/ACC_repo_code/Nursery.ipynb#X12sZmlsZQ%3D%3D?line=62'>63</a>\u001b[0m t4 \u001b[39m=\u001b[39m time\u001b[39m.\u001b[39mtime()\n",
      "File \u001b[0;32m~/miniconda3/lib/python3.8/site-packages/keras/utils/traceback_utils.py:65\u001b[0m, in \u001b[0;36mfilter_traceback.<locals>.error_handler\u001b[0;34m(*args, **kwargs)\u001b[0m\n\u001b[1;32m     63\u001b[0m filtered_tb \u001b[39m=\u001b[39m \u001b[39mNone\u001b[39;00m\n\u001b[1;32m     64\u001b[0m \u001b[39mtry\u001b[39;00m:\n\u001b[0;32m---> 65\u001b[0m     \u001b[39mreturn\u001b[39;00m fn(\u001b[39m*\u001b[39;49margs, \u001b[39m*\u001b[39;49m\u001b[39m*\u001b[39;49mkwargs)\n\u001b[1;32m     66\u001b[0m \u001b[39mexcept\u001b[39;00m \u001b[39mException\u001b[39;00m \u001b[39mas\u001b[39;00m e:\n\u001b[1;32m     67\u001b[0m     filtered_tb \u001b[39m=\u001b[39m _process_traceback_frames(e\u001b[39m.\u001b[39m__traceback__)\n",
      "File \u001b[0;32m~/miniconda3/lib/python3.8/site-packages/keras/engine/training.py:1650\u001b[0m, in \u001b[0;36mModel.fit\u001b[0;34m(self, x, y, batch_size, epochs, verbose, callbacks, validation_split, validation_data, shuffle, class_weight, sample_weight, initial_epoch, steps_per_epoch, validation_steps, validation_batch_size, validation_freq, max_queue_size, workers, use_multiprocessing)\u001b[0m\n\u001b[1;32m   1642\u001b[0m \u001b[39mwith\u001b[39;00m tf\u001b[39m.\u001b[39mprofiler\u001b[39m.\u001b[39mexperimental\u001b[39m.\u001b[39mTrace(\n\u001b[1;32m   1643\u001b[0m     \u001b[39m\"\u001b[39m\u001b[39mtrain\u001b[39m\u001b[39m\"\u001b[39m,\n\u001b[1;32m   1644\u001b[0m     epoch_num\u001b[39m=\u001b[39mepoch,\n\u001b[0;32m   (...)\u001b[0m\n\u001b[1;32m   1647\u001b[0m     _r\u001b[39m=\u001b[39m\u001b[39m1\u001b[39m,\n\u001b[1;32m   1648\u001b[0m ):\n\u001b[1;32m   1649\u001b[0m     callbacks\u001b[39m.\u001b[39mon_train_batch_begin(step)\n\u001b[0;32m-> 1650\u001b[0m     tmp_logs \u001b[39m=\u001b[39m \u001b[39mself\u001b[39;49m\u001b[39m.\u001b[39;49mtrain_function(iterator)\n\u001b[1;32m   1651\u001b[0m     \u001b[39mif\u001b[39;00m data_handler\u001b[39m.\u001b[39mshould_sync:\n\u001b[1;32m   1652\u001b[0m         context\u001b[39m.\u001b[39masync_wait()\n",
      "File \u001b[0;32m~/miniconda3/lib/python3.8/site-packages/tensorflow/python/util/traceback_utils.py:150\u001b[0m, in \u001b[0;36mfilter_traceback.<locals>.error_handler\u001b[0;34m(*args, **kwargs)\u001b[0m\n\u001b[1;32m    148\u001b[0m filtered_tb \u001b[39m=\u001b[39m \u001b[39mNone\u001b[39;00m\n\u001b[1;32m    149\u001b[0m \u001b[39mtry\u001b[39;00m:\n\u001b[0;32m--> 150\u001b[0m   \u001b[39mreturn\u001b[39;00m fn(\u001b[39m*\u001b[39;49margs, \u001b[39m*\u001b[39;49m\u001b[39m*\u001b[39;49mkwargs)\n\u001b[1;32m    151\u001b[0m \u001b[39mexcept\u001b[39;00m \u001b[39mException\u001b[39;00m \u001b[39mas\u001b[39;00m e:\n\u001b[1;32m    152\u001b[0m   filtered_tb \u001b[39m=\u001b[39m _process_traceback_frames(e\u001b[39m.\u001b[39m__traceback__)\n",
      "File \u001b[0;32m~/miniconda3/lib/python3.8/site-packages/tensorflow/python/eager/polymorphic_function/polymorphic_function.py:880\u001b[0m, in \u001b[0;36mFunction.__call__\u001b[0;34m(self, *args, **kwds)\u001b[0m\n\u001b[1;32m    877\u001b[0m compiler \u001b[39m=\u001b[39m \u001b[39m\"\u001b[39m\u001b[39mxla\u001b[39m\u001b[39m\"\u001b[39m \u001b[39mif\u001b[39;00m \u001b[39mself\u001b[39m\u001b[39m.\u001b[39m_jit_compile \u001b[39melse\u001b[39;00m \u001b[39m\"\u001b[39m\u001b[39mnonXla\u001b[39m\u001b[39m\"\u001b[39m\n\u001b[1;32m    879\u001b[0m \u001b[39mwith\u001b[39;00m OptionalXlaContext(\u001b[39mself\u001b[39m\u001b[39m.\u001b[39m_jit_compile):\n\u001b[0;32m--> 880\u001b[0m   result \u001b[39m=\u001b[39m \u001b[39mself\u001b[39;49m\u001b[39m.\u001b[39;49m_call(\u001b[39m*\u001b[39;49margs, \u001b[39m*\u001b[39;49m\u001b[39m*\u001b[39;49mkwds)\n\u001b[1;32m    882\u001b[0m new_tracing_count \u001b[39m=\u001b[39m \u001b[39mself\u001b[39m\u001b[39m.\u001b[39mexperimental_get_tracing_count()\n\u001b[1;32m    883\u001b[0m without_tracing \u001b[39m=\u001b[39m (tracing_count \u001b[39m==\u001b[39m new_tracing_count)\n",
      "File \u001b[0;32m~/miniconda3/lib/python3.8/site-packages/tensorflow/python/eager/polymorphic_function/polymorphic_function.py:912\u001b[0m, in \u001b[0;36mFunction._call\u001b[0;34m(self, *args, **kwds)\u001b[0m\n\u001b[1;32m    909\u001b[0m   \u001b[39mself\u001b[39m\u001b[39m.\u001b[39m_lock\u001b[39m.\u001b[39mrelease()\n\u001b[1;32m    910\u001b[0m   \u001b[39m# In this case we have created variables on the first call, so we run the\u001b[39;00m\n\u001b[1;32m    911\u001b[0m   \u001b[39m# defunned version which is guaranteed to never create variables.\u001b[39;00m\n\u001b[0;32m--> 912\u001b[0m   \u001b[39mreturn\u001b[39;00m \u001b[39mself\u001b[39;49m\u001b[39m.\u001b[39;49m_no_variable_creation_fn(\u001b[39m*\u001b[39;49margs, \u001b[39m*\u001b[39;49m\u001b[39m*\u001b[39;49mkwds)  \u001b[39m# pylint: disable=not-callable\u001b[39;00m\n\u001b[1;32m    913\u001b[0m \u001b[39melif\u001b[39;00m \u001b[39mself\u001b[39m\u001b[39m.\u001b[39m_variable_creation_fn \u001b[39mis\u001b[39;00m \u001b[39mnot\u001b[39;00m \u001b[39mNone\u001b[39;00m:\n\u001b[1;32m    914\u001b[0m   \u001b[39m# Release the lock early so that multiple threads can perform the call\u001b[39;00m\n\u001b[1;32m    915\u001b[0m   \u001b[39m# in parallel.\u001b[39;00m\n\u001b[1;32m    916\u001b[0m   \u001b[39mself\u001b[39m\u001b[39m.\u001b[39m_lock\u001b[39m.\u001b[39mrelease()\n",
      "File \u001b[0;32m~/miniconda3/lib/python3.8/site-packages/tensorflow/python/eager/polymorphic_function/tracing_compiler.py:134\u001b[0m, in \u001b[0;36mTracingCompiler.__call__\u001b[0;34m(self, *args, **kwargs)\u001b[0m\n\u001b[1;32m    131\u001b[0m \u001b[39mwith\u001b[39;00m \u001b[39mself\u001b[39m\u001b[39m.\u001b[39m_lock:\n\u001b[1;32m    132\u001b[0m   (concrete_function,\n\u001b[1;32m    133\u001b[0m    filtered_flat_args) \u001b[39m=\u001b[39m \u001b[39mself\u001b[39m\u001b[39m.\u001b[39m_maybe_define_function(args, kwargs)\n\u001b[0;32m--> 134\u001b[0m \u001b[39mreturn\u001b[39;00m concrete_function\u001b[39m.\u001b[39;49m_call_flat(\n\u001b[1;32m    135\u001b[0m     filtered_flat_args, captured_inputs\u001b[39m=\u001b[39;49mconcrete_function\u001b[39m.\u001b[39;49mcaptured_inputs)\n",
      "File \u001b[0;32m~/miniconda3/lib/python3.8/site-packages/tensorflow/python/eager/polymorphic_function/monomorphic_function.py:1745\u001b[0m, in \u001b[0;36mConcreteFunction._call_flat\u001b[0;34m(self, args, captured_inputs, cancellation_manager)\u001b[0m\n\u001b[1;32m   1741\u001b[0m possible_gradient_type \u001b[39m=\u001b[39m gradients_util\u001b[39m.\u001b[39mPossibleTapeGradientTypes(args)\n\u001b[1;32m   1742\u001b[0m \u001b[39mif\u001b[39;00m (possible_gradient_type \u001b[39m==\u001b[39m gradients_util\u001b[39m.\u001b[39mPOSSIBLE_GRADIENT_TYPES_NONE\n\u001b[1;32m   1743\u001b[0m     \u001b[39mand\u001b[39;00m executing_eagerly):\n\u001b[1;32m   1744\u001b[0m   \u001b[39m# No tape is watching; skip to running the function.\u001b[39;00m\n\u001b[0;32m-> 1745\u001b[0m   \u001b[39mreturn\u001b[39;00m \u001b[39mself\u001b[39m\u001b[39m.\u001b[39m_build_call_outputs(\u001b[39mself\u001b[39;49m\u001b[39m.\u001b[39;49m_inference_function\u001b[39m.\u001b[39;49mcall(\n\u001b[1;32m   1746\u001b[0m       ctx, args, cancellation_manager\u001b[39m=\u001b[39;49mcancellation_manager))\n\u001b[1;32m   1747\u001b[0m forward_backward \u001b[39m=\u001b[39m \u001b[39mself\u001b[39m\u001b[39m.\u001b[39m_select_forward_and_backward_functions(\n\u001b[1;32m   1748\u001b[0m     args,\n\u001b[1;32m   1749\u001b[0m     possible_gradient_type,\n\u001b[1;32m   1750\u001b[0m     executing_eagerly)\n\u001b[1;32m   1751\u001b[0m forward_function, args_with_tangents \u001b[39m=\u001b[39m forward_backward\u001b[39m.\u001b[39mforward()\n",
      "File \u001b[0;32m~/miniconda3/lib/python3.8/site-packages/tensorflow/python/eager/polymorphic_function/monomorphic_function.py:378\u001b[0m, in \u001b[0;36m_EagerDefinedFunction.call\u001b[0;34m(self, ctx, args, cancellation_manager)\u001b[0m\n\u001b[1;32m    376\u001b[0m \u001b[39mwith\u001b[39;00m _InterpolateFunctionError(\u001b[39mself\u001b[39m):\n\u001b[1;32m    377\u001b[0m   \u001b[39mif\u001b[39;00m cancellation_manager \u001b[39mis\u001b[39;00m \u001b[39mNone\u001b[39;00m:\n\u001b[0;32m--> 378\u001b[0m     outputs \u001b[39m=\u001b[39m execute\u001b[39m.\u001b[39;49mexecute(\n\u001b[1;32m    379\u001b[0m         \u001b[39mstr\u001b[39;49m(\u001b[39mself\u001b[39;49m\u001b[39m.\u001b[39;49msignature\u001b[39m.\u001b[39;49mname),\n\u001b[1;32m    380\u001b[0m         num_outputs\u001b[39m=\u001b[39;49m\u001b[39mself\u001b[39;49m\u001b[39m.\u001b[39;49m_num_outputs,\n\u001b[1;32m    381\u001b[0m         inputs\u001b[39m=\u001b[39;49margs,\n\u001b[1;32m    382\u001b[0m         attrs\u001b[39m=\u001b[39;49mattrs,\n\u001b[1;32m    383\u001b[0m         ctx\u001b[39m=\u001b[39;49mctx)\n\u001b[1;32m    384\u001b[0m   \u001b[39melse\u001b[39;00m:\n\u001b[1;32m    385\u001b[0m     outputs \u001b[39m=\u001b[39m execute\u001b[39m.\u001b[39mexecute_with_cancellation(\n\u001b[1;32m    386\u001b[0m         \u001b[39mstr\u001b[39m(\u001b[39mself\u001b[39m\u001b[39m.\u001b[39msignature\u001b[39m.\u001b[39mname),\n\u001b[1;32m    387\u001b[0m         num_outputs\u001b[39m=\u001b[39m\u001b[39mself\u001b[39m\u001b[39m.\u001b[39m_num_outputs,\n\u001b[0;32m   (...)\u001b[0m\n\u001b[1;32m    390\u001b[0m         ctx\u001b[39m=\u001b[39mctx,\n\u001b[1;32m    391\u001b[0m         cancellation_manager\u001b[39m=\u001b[39mcancellation_manager)\n",
      "File \u001b[0;32m~/miniconda3/lib/python3.8/site-packages/tensorflow/python/eager/execute.py:52\u001b[0m, in \u001b[0;36mquick_execute\u001b[0;34m(op_name, num_outputs, inputs, attrs, ctx, name)\u001b[0m\n\u001b[1;32m     50\u001b[0m \u001b[39mtry\u001b[39;00m:\n\u001b[1;32m     51\u001b[0m   ctx\u001b[39m.\u001b[39mensure_initialized()\n\u001b[0;32m---> 52\u001b[0m   tensors \u001b[39m=\u001b[39m pywrap_tfe\u001b[39m.\u001b[39;49mTFE_Py_Execute(ctx\u001b[39m.\u001b[39;49m_handle, device_name, op_name,\n\u001b[1;32m     53\u001b[0m                                       inputs, attrs, num_outputs)\n\u001b[1;32m     54\u001b[0m \u001b[39mexcept\u001b[39;00m core\u001b[39m.\u001b[39m_NotOkStatusException \u001b[39mas\u001b[39;00m e:\n\u001b[1;32m     55\u001b[0m   \u001b[39mif\u001b[39;00m name \u001b[39mis\u001b[39;00m \u001b[39mnot\u001b[39;00m \u001b[39mNone\u001b[39;00m:\n",
      "\u001b[0;31mKeyboardInterrupt\u001b[0m: "
     ]
    }
   ],
   "source": [
    "visited_states_train = []\n",
    "visited_states_test = []\n",
    "LTL_coef = 10\n",
    "NN_value_active = False\n",
    "\n",
    "search_depth = 400\n",
    "MCTS_samples = 100\n",
    "\n",
    "num_training_epochs =  30\n",
    "num_test_epochs = 30\n",
    "training = True\n",
    "epochs = 10\n",
    "T = [25, 50, 100, 200, 400]\n",
    "K = 1\n",
    "C , tow = 0.01, 0.1\n",
    "batch_size = 32\n",
    "steps_per_epoch = 4\n",
    "idx = 0\n",
    "success_rates = []\n",
    "succes_std = []\n",
    "win_hist = []\n",
    "train_history = []\n",
    "acc_rew = []\n",
    "\n",
    "# os.remove(\"Log_run.txt\") # run this line if you want to overright old logs\n",
    "for i in T:\n",
    "\n",
    "    print(\"##########################\")\n",
    "    print(\"T:\", i, \"| C:\",C, \"| tow:\",tow)\n",
    "    idx += 1\n",
    "    # TRAIN ##############################\n",
    "    train_wins = 0\n",
    "    N, W, Q, P, visited_train = np.zeros(csrl.shape), np.zeros(csrl.shape), np.zeros(csrl.shape), np.zeros(csrl.shape), set()\n",
    "    for epoch in range(num_training_epochs):\n",
    "        t1 = time.time()\n",
    "        print(Q[(0,0,4,1)][:4], len(visited_train))\n",
    "        state_history, channeled_states, trajectory, action_history, reward_history, better_policy = MC_learning(csrl, model, LTL_formula,\n",
    "                predicates, csrl.reward, ch_states, N = N, W = W, Q = Q, P = P, C=C, tow=tow, n_samples=MCTS_samples, visited=visited_train,\n",
    "                start=(4,1), search_depth=search_depth, verbose=0, T=i, K=K, NN_value_active=NN_value_active, run_num=epoch, ltl_f_rew=False)\n",
    "        \n",
    "        visited_states_train += state_history\n",
    "        t2 = time.time()\n",
    "\n",
    "        if reward_history[-1]>0:\n",
    "            train_wins+=1\n",
    "        if any(reward_history): NN_value_active = True\n",
    "\n",
    "        if training and len(action_history)>0:\n",
    "            if epoch==0:\n",
    "                x_train = np.array(channeled_states)[:-1]\n",
    "                y1_train = np.array(better_policy)\n",
    "                y2_train = np.array(reward_history) + LTL_coef*reward_history[-1]\n",
    "                y2_train = y2_train[:-1]\n",
    "            else:\n",
    "                x_train = np.concatenate((x_train, np.array(channeled_states)[:-1]),0)\n",
    "                y1_train = np.concatenate((y1_train, np.array(better_policy)),0)\n",
    "                y2_train_curr = np.array(reward_history) + LTL_coef*reward_history[-1]\n",
    "                y2_train = np.concatenate((y2_train, y2_train_curr[:-1]),0)\n",
    "            t3= time.time()\n",
    "            tr_hist = model.fit(x_train, [y1_train, y2_train], epochs=epochs, batch_size=batch_size,\n",
    "                                steps_per_epoch=steps_per_epoch if len(x_train)>steps_per_epoch*epochs*batch_size else None, verbose=0)\n",
    "            train_history += tr_hist.history['loss']\n",
    "        t4 = time.time()\n",
    "    print(\"Train wins:\",train_wins,\"/\", num_training_epochs)\n",
    "\n",
    "    # TEST ##############################\n",
    "    test_wins = 0\n",
    "    N, W, Q, P, visited_test = np.zeros(csrl.shape), np.zeros(csrl.shape), np.zeros(csrl.shape), np.zeros(csrl.shape), set()\n",
    "    for epoch in range(num_test_epochs):\n",
    "        \n",
    "        state_history, channeled_states, trajectory, action_history, reward_history, better_policy = MC_learning(csrl, model, LTL_formula,\n",
    "                predicates, csrl.reward, ch_states, N = N, W = W, Q = Q, P = P, C=1, tow=1, n_samples=MCTS_samples, visited=visited_test,\n",
    "                start=(4,1), search_depth=search_depth, verbose=0, T=i, K=1, NN_value_active=True)\n",
    "\n",
    "        win = reward_history[-1]\n",
    "        if win: test_wins+=1\n",
    "        win_hist.append(win)\n",
    "        visited_states_test += state_history\n",
    "        acc_rew.append(reward_history)\n",
    "        \n",
    "    success_rates.append(100*test_wins/num_test_epochs)\n",
    "    temp = np.zeros(num_test_epochs)\n",
    "    temp[:test_wins]=1\n",
    "    std = np.sqrt(num_test_epochs*np.var(temp))\n",
    "    succes_std.append((success_rates[-1]-std, success_rates[-1]+std))\n",
    "    ###############################################################\n",
    "    print(\"Test wins:\",test_wins,\"/\",num_test_epochs)\n",
    "\n",
    "encode_visited_states_test = [i[1]*csrl.shape[-2]*csrl.shape[-3]+i[2]*csrl.shape[-2]+i[3] for i in visited_states_test]\n",
    "encode_visited_states_train = [i[1]*csrl.shape[-2]*csrl.shape[-3]+i[2]*csrl.shape[-2]+i[3] for i in visited_states_train]"
   ]
  },
  {
   "cell_type": "code",
   "execution_count": 11,
   "metadata": {},
   "outputs": [],
   "source": [
    "# model.save_weights(f'models/p=1/Nurseryp1')"
   ]
  },
  {
   "cell_type": "code",
   "execution_count": null,
   "metadata": {},
   "outputs": [
    {
     "name": "stdout",
     "output_type": "stream",
     "text": [
      "exploration in training: 0.02\n",
      "exploration in testing: 0.01\n"
     ]
    },
    {
     "data": {
      "image/png": "[encoded data removed]",
      "text/plain": [
       "<Figure size 800x600 with 1 Axes>"
      ]
     },
     "metadata": {},
     "output_type": "display_data"
    }
   ],
   "source": [
    "plt.figure(figsize=(8,6))\n",
    "plt.hist(encode_visited_states_train, bins=range(total_number_of_states), density=True, alpha=0.5, label=\"train\")\n",
    "plt.title(\"MCTS - histogram of visited states during train and test\")\n",
    "plt.xlabel(\"space state\")\n",
    "\n",
    "plt.hist(encode_visited_states_test, bins=range(total_number_of_states), density=True, alpha=0.5, label=\"test\")\n",
    "plt.legend()\n",
    "\n",
    "print(\"exploration in training:\", round(np.unique(encode_visited_states_train).shape[0]/total_number_of_states, 2))\n",
    "print(\"exploration in testing:\", round(np.unique(encode_visited_states_test).shape[0]/total_number_of_states, 2))"
   ]
  },
  {
   "cell_type": "code",
   "execution_count": null,
   "metadata": {},
   "outputs": [
    {
     "data": {
      "text/plain": [
       "[100.0]"
      ]
     },
     "execution_count": 11,
     "metadata": {},
     "output_type": "execute_result"
    },
    {
     "data": {
      "image/png": "[encoded data removed]",
      "text/plain": [
       "<Figure size 700x400 with 1 Axes>"
      ]
     },
     "metadata": {},
     "output_type": "display_data"
    }
   ],
   "source": [
    "succes_std = np.array(succes_std)\n",
    "\n",
    "plt.figure(figsize=(7,4))\n",
    "plt.fill_between(T, succes_std[:,0], succes_std[:,1], alpha=0.3, label=\"MCTS area of 1 STD\")\n",
    "\n",
    "plt.plot(T, success_rates)\n",
    "plt.ylim(-10, 110)\n",
    "plt.xlabel(\"length of trajectory\")\n",
    "plt.ylabel(f\"succes rate (out of {num_test_epochs} runs)\")\n",
    "plt.title(\"MCTS(sd=max) adaptive training, nursery case, P=\"+str(p))\n",
    "success_rates"
   ]
  },
  {
   "cell_type": "code",
   "execution_count": null,
   "metadata": {},
   "outputs": [
    {
     "data": {
      "text/plain": [
       "Text(0.5, 1.0, 'training loss')"
      ]
     },
     "execution_count": 12,
     "metadata": {},
     "output_type": "execute_result"
    },
    {
     "data": {
      "image/png": "[encoded data removed]",
      "text/plain": [
       "<Figure size 700x400 with 1 Axes>"
      ]
     },
     "metadata": {},
     "output_type": "display_data"
    }
   ],
   "source": [
    "interval = 400\n",
    "plt.figure(figsize=(7,4))\n",
    "plt.plot(train_history)\n",
    "plt.title(\"training loss\")\n",
    "# plt.xticks(range(1,num_training_epochs*epochs,interval), range(0,num_training_epochs,interval//epochs));"
   ]
  },
  {
   "cell_type": "code",
   "execution_count": 26,
   "metadata": {},
   "outputs": [
    {
     "data": {
      "application/vnd.jupyter.widget-view+json": {
       "model_id": "ca841d61ee3b452fb78e736594988563",
       "version_major": 2,
       "version_minor": 0
      },
      "text/plain": [
       "interactive(children=(IntSlider(value=0, description='t', max=299), Output()), _dom_classes=('widget-interact'…"
      ]
     },
     "metadata": {},
     "output_type": "display_data"
    },
    {
     "data": {
      "text/plain": [
       "<function __main__.plot_agent(t)>"
      ]
     },
     "execution_count": 26,
     "metadata": {},
     "output_type": "execute_result"
    }
   ],
   "source": [
    "from ipywidgets.widgets import IntSlider\n",
    "from ipywidgets import interact\n",
    "\n",
    "def plot_agent(t):\n",
    "    csrl.mdp.plot(agent=state_history[t][2:], save=f'test/{t}.png')\n",
    "\n",
    "t=IntSlider(value=0,min=0,max=T[-1]-1)\n",
    "interact(plot_agent,t=t)"
   ]
  }
 ],
 "metadata": {
  "kernelspec": {
   "display_name": "base",
   "language": "python",
   "name": "python3"
  },
  "language_info": {
   "codemirror_mode": {
    "name": "ipython",
    "version": 3
   },
   "file_extension": ".py",
   "mimetype": "text/x-python",
   "name": "python",
   "nbconvert_exporter": "python",
   "pygments_lexer": "ipython3",
   "version": "3.8.16"
  },
  "vscode": {
   "interpreter": {
    "hash": "99202338b96e74e315910b3b20b9a2b0621872c4f26ff012cceee1c9c29d9125"
   }
  }
 },
 "nbformat": 4,
 "nbformat_minor": 4
}
